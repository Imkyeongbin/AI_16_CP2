{
 "cells": [
  {
   "cell_type": "code",
   "execution_count": 1,
   "metadata": {},
   "outputs": [],
   "source": [
    "# 미설치 환경에서는 다음 명령의 실행이 필요합니다.\n",
    "# %pip install deepface\n",
    "# %pip install mediapipe\n",
    "# %conda install -c conda-forge dlib\n",
    "# %pip install openpyxl"
   ]
  },
  {
   "cell_type": "markdown",
   "metadata": {},
   "source": [
    "1. 윈도우 기준, `C:/Users/<유저명>/.conda/envs/<conda 환경명>/Lib/site-packages/deepface/DeepFace.py` 674번째 줄에 아래 코드를 추가해야 원활하게 작동합니다.(input shape를 맞춰주기 위한 코드입니다.)\n",
    "    맥에서도 conda 환경을 모은 곳에서 `Lib/site-packages/deepface/DeepFace.py` 파일을 확인하면 될 것으로 추측됩니다.\n",
    "    ```\n",
    "    if model_name == 'DeepID':\n",
    "        img = np.transpose(img, (0, 2, 1, 3)) \n",
    "    ```\n",
    "\n",
    "2. dlib의 경우 gdown을 통한 데이터 다운로드의 실패하는 경우가 있습니다. 이 경우 가중치 파일을 윈도우 기준으로, 아래 디렉토리에 넣으면 됩니다.\n",
    "- `C:/Users/<유저명>/.deepface/weights`\n",
    "\n",
    "    맥의 경우에도 `.deepface/weights`의 형태로 가중치 파일을 다운받는 위치가 있을 것으로 추측됩니다.\n",
    "- dlib이 사용하는 dat 파일은 https://github.com/ageitgey/face_recognition_models/raw/master/face_recognition_models/models/dlib_face_recognition_resnet_model_v1.dat 를 통해 다운받을 수 있습니다."
   ]
  },
  {
   "cell_type": "code",
   "execution_count": 2,
   "metadata": {},
   "outputs": [],
   "source": [
    "import sys, os\n",
    "import pandas as pd\n",
    "\n",
    "path_to_AI16CP2 = '../../AI_16_CP2'\n",
    "sys.path.insert(0, path_to_AI16CP2)"
   ]
  },
  {
   "cell_type": "code",
   "execution_count": 3,
   "metadata": {},
   "outputs": [
    {
     "name": "stdout",
     "output_type": "stream",
     "text": [
      "Num GPUs Available:  1\n",
      "gender_train_weights7.h5 will be downloaded...\n"
     ]
    },
    {
     "name": "stderr",
     "output_type": "stream",
     "text": [
      "Downloading...\n",
      "From: https://dl.dropboxusercontent.com/s/j99xq4vgyt4xt09/gender_train_weights7.h5\n",
      "To: f:\\programming\\2022_codestates\\cp2\\AI_16_CP2\\models\\basemodels\\weights\\gender_train_weights7.h5\n",
      "100%|██████████| 537M/537M [00:42<00:00, 12.6MB/s] \n"
     ]
    }
   ],
   "source": [
    "from face_ds_project import FaceDSProject\n",
    "\n",
    "project = FaceDSProject()\n",
    "\n",
    "# project.distinguisher.model.load_weights('../../AI_16_CP2/models/basemodels/weights/gender_train_weights7.h5')"
   ]
  },
  {
   "cell_type": "code",
   "execution_count": 4,
   "metadata": {},
   "outputs": [
    {
     "name": "stdout",
     "output_type": "stream",
     "text": [
      "1/1 [==============================] - 44s 44s/step\n"
     ]
    },
    {
     "data": {
      "text/plain": [
       "{'result_message': '원본 이미지에서 성별을 분석했습니다.',\n",
       " 'result_code': 0,\n",
       " 'result_list': [{'gender': {'Woman': 100.0, 'Man': 0.0},\n",
       "   'dominant_gender': 'Woman'},\n",
       "  {'gender': {'Woman': 100.0, 'Man': 0.0}, 'dominant_gender': 'Woman'},\n",
       "  {'gender': {'Woman': 99.83, 'Man': 0.17}, 'dominant_gender': 'Woman'},\n",
       "  {'gender': {'Woman': 100.0, 'Man': 0.0}, 'dominant_gender': 'Woman'},\n",
       "  {'gender': {'Woman': 100.0, 'Man': 0.0}, 'dominant_gender': 'Woman'},\n",
       "  {'gender': {'Woman': 100.0, 'Man': 0.0}, 'dominant_gender': 'Woman'}]}"
      ]
     },
     "execution_count": 4,
     "metadata": {},
     "output_type": "execute_result"
    }
   ],
   "source": [
    "source1 = '../AI_16_CP2/sample_data/ls.jpg'\n",
    "# results = []\n",
    "# for i in os.listdir('../../AI_16_CP2/sample_data'):\n",
    "#     if 'jpg' in i:\n",
    "#         print(i, project.verify(source1, '../AI_16_CP2/sample_data/'+ i))\n",
    "#         results.append(project.verify(source1, '../AI_16_CP2/sample_data/'+ i))\n",
    "project.distinguish(source1)"
   ]
  }
 ],
 "metadata": {
  "kernelspec": {
   "display_name": "cp2",
   "language": "python",
   "name": "python3"
  },
  "language_info": {
   "codemirror_mode": {
    "name": "ipython",
    "version": 3
   },
   "file_extension": ".py",
   "mimetype": "text/x-python",
   "name": "python",
   "nbconvert_exporter": "python",
   "pygments_lexer": "ipython3",
   "version": "3.7.16"
  },
  "orig_nbformat": 4
 },
 "nbformat": 4,
 "nbformat_minor": 2
}
