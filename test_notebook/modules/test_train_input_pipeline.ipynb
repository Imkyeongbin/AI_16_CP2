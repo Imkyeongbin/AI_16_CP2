{
 "cells": [
  {
   "cell_type": "code",
   "execution_count": 1,
   "metadata": {},
   "outputs": [],
   "source": [
    "import sys, os\n",
    "import pandas as pd\n",
    "\n",
    "path_to_AI16CP2 = '../../AI_16_CP2'\n",
    "sys.path.insert(0, path_to_AI16CP2)"
   ]
  },
  {
   "cell_type": "code",
   "execution_count": 2,
   "metadata": {},
   "outputs": [],
   "source": [
    "from utils.trainData import *\n",
    "excel_path = '../../datasets/High_Resolution/AI_Hub_gender_with_path_sheet.xlsx'\n",
    "image_data_root = '../../datasets/High_Resolution'\n",
    "df_id_label, df_paths = get_df_from_excel(excel_path, image_data_root )\n",
    "\n",
    "model_name = 'vggface'\n",
    "metric = 'euclidean'"
   ]
  },
  {
   "cell_type": "code",
   "execution_count": 3,
   "metadata": {},
   "outputs": [
    {
     "name": "stdout",
     "output_type": "stream",
     "text": [
      "           ID  gender                       id_image_data_root\n",
      "0    19062421       1  ../../datasets/High_Resolution\\19062421\n",
      "1    19062431       1  ../../datasets/High_Resolution\\19062431\n",
      "2    19062521       0  ../../datasets/High_Resolution\\19062521\n",
      "3    19062531       0  ../../datasets/High_Resolution\\19062531\n",
      "4    19062542       0  ../../datasets/High_Resolution\\19062542\n",
      "..        ...     ...                                      ...\n",
      "395  19101441       1  ../../datasets/High_Resolution\\19101441\n",
      "396  19101442       0  ../../datasets/High_Resolution\\19101442\n",
      "397  19101443       1  ../../datasets/High_Resolution\\19101443\n",
      "398  19101512       1  ../../datasets/High_Resolution\\19101512\n",
      "399  19101513       0  ../../datasets/High_Resolution\\19101513\n",
      "\n",
      "[400 rows x 3 columns]\n",
      "                     path\n",
      "0     S001\\L1\\E01\\C15.jpg\n",
      "1     S001\\L1\\E01\\C16.jpg\n",
      "2     S001\\L1\\E01\\C17.jpg\n",
      "3     S001\\L1\\E01\\C19.jpg\n",
      "4     S001\\L1\\E01\\C20.jpg\n",
      "...                   ...\n",
      "4297   S006\\L9\\E03\\C5.jpg\n",
      "4298   S006\\L9\\E03\\C6.jpg\n",
      "4299   S006\\L9\\E03\\C7.jpg\n",
      "4300   S006\\L9\\E03\\C8.jpg\n",
      "4301   S006\\L9\\E03\\C9.jpg\n",
      "\n",
      "[4302 rows x 1 columns]\n"
     ]
    }
   ],
   "source": [
    "print(df_id_label)\n",
    "print(df_paths)"
   ]
  },
  {
   "cell_type": "code",
   "execution_count": 4,
   "metadata": {},
   "outputs": [
    {
     "name": "stdout",
     "output_type": "stream",
     "text": [
      "0                                                    ...\n",
      "1                                                    ...\n",
      "2                                                    ...\n",
      "3                                                    ...\n",
      "4                                                    ...\n",
      "                             ...                        \n",
      "395                                                  ...\n",
      "396                                                  ...\n",
      "397                                                  ...\n",
      "398                                                  ...\n",
      "399                                                  ...\n",
      "Name: id_image_data_root, Length: 400, dtype: object\n",
      "<class 'pandas.core.series.Series'>\n"
     ]
    }
   ],
   "source": [
    "def create_df_image_paths(row):\n",
    "    paths = df_paths['path'].apply(lambda x: os.path.join(row, x))\n",
    "    return pd.DataFrame(paths)\n",
    "\n",
    "# 각 행에 데이터프레임을 저장\n",
    "img_path_2dseries = df_id_label['id_image_data_root'].apply(create_df_image_paths)\n",
    "\n",
    "print(img_path_2dseries)\n",
    "print(type(img_path_2dseries))"
   ]
  },
  {
   "cell_type": "code",
   "execution_count": 5,
   "metadata": {},
   "outputs": [],
   "source": [
    "pd.set_option('display.max_columns', None)\n",
    "pd.set_option('max_colwidth', None)  # 각 열의 너비를 최대로 설정\n",
    "del df_id_label\n",
    "del df_paths"
   ]
  },
  {
   "cell_type": "code",
   "execution_count": 6,
   "metadata": {},
   "outputs": [],
   "source": [
    "from utils.face_detector import FacePreparer\n",
    "preparer = FacePreparer()\n"
   ]
  },
  {
   "cell_type": "code",
   "execution_count": 7,
   "metadata": {},
   "outputs": [],
   "source": [
    "import random\n",
    "import numpy as np\n",
    "from tqdm import tqdm\n",
    "from utils.function.generals import load_image\n",
    "\n",
    "\n",
    "pd.reset_option('max_colwidth')\n",
    "\n",
    "\n",
    "# 추출 불가 이미지 리스트\n",
    "invalid_image_tuple_list = []\n",
    "boom_turn = 0\n",
    "def get_img(idx, j):\n",
    "    img = None\n",
    "    if (idx, j) in invalid_image_tuple_list:\n",
    "        return None\n",
    "    df = img_path_2dseries.iloc[idx]\n",
    "    img_path = df['path'].iloc[j]\n",
    "    img_255 = load_image(img_path) \n",
    "    face_list = preparer.detect_faces(img_255, model_name)\n",
    "    if len(face_list) >0:\n",
    "        img = face_list[0] / 255 # 정규화된 동일 이미지 원본\n",
    "    else:\n",
    "        invalid_image_tuple_list.append((idx, j))\n",
    "    \n",
    "    # return [len(img_path)]*2 #test 용\n",
    "    return img\n",
    "\n",
    "import matplotlib.pyplot as plt\n",
    "\n",
    "# pair_img_source: 노멀라이즈된 이미지 페어\n",
    "# 이미지 페어가 (2, H, W, C) 형태로 있다고 가정합니다.\n",
    "\n",
    "def plot_pairs(img1, img2, img3, img4):\n",
    "    # 첫번째 이미지\n",
    "    plt.subplot(2, 2, 1)\n",
    "    plt.imshow(img1)\n",
    "    plt.title('Origin')\n",
    "\n",
    "    # 두번째 이미지\n",
    "    plt.subplot(2, 2, 2)\n",
    "    plt.imshow(img2)\n",
    "    plt.title('Different')\n",
    "    \n",
    "    # 첫번째 이미지\n",
    "    plt.subplot(2, 2, 3)\n",
    "    plt.imshow(img3)\n",
    "    plt.title('Origin')\n",
    "\n",
    "    # 두번째 이미지\n",
    "    plt.subplot(2, 2, 4)\n",
    "    plt.imshow(img4)\n",
    "    plt.title('Same person')\n",
    "\n",
    "    # 이미지 플롯 보여주기\n",
    "    plt.show()\n",
    "    input('Press Enter to continue...')\n",
    "\n",
    "\n",
    "\n",
    "# for idx, df in tqdm(enumerate(img_path_2dseries)):\n",
    "def generator(df_series, generator_batch= 32, num_per_id=50): # df로 된 시리즈\n",
    "    \"\"\"\n",
    "        num_per_id * 390(id) * 2 (True, False) = 최대 쌍수\n",
    "    \"\"\"\n",
    "    for idx, df in enumerate(df_series):\n",
    "        # if idx >= 1: # 테스트용\n",
    "        if idx >= len(img_path_2dseries) - 1 - 10: # 390 이상부터 랜덤 추출할 수가 적어 찾는데 시간이 많이 걸릴 수 있고, 에러가 발생할 수 있음(train, val에선 조건이 성립하지 않음)\n",
    "            return\n",
    "        \n",
    "        used_img_list = []\n",
    "        pair_img_source = None\n",
    "        while pair_img_source is None:\n",
    "            random_index = random.randint(0, len(df) - 1)\n",
    "            pair_img_source = get_img(idx, random_index) # 동일쌍 타겟\n",
    "        \n",
    "        pair_source_list = []\n",
    "        pair_target_list = []\n",
    "        label_list = []\n",
    "        \n",
    "        # 샘플 추출\n",
    "        random_numbers = random.sample(range(0, 4302), num_per_id)\n",
    "\n",
    "        for j_index, j in enumerate(random_numbers): # 0 ~ 4301\n",
    "            true_pair_img_target = get_img(idx, j) # 동일쌍 비동일쌍에서 둘다 원본으로 편성.\n",
    "            if true_pair_img_target is None:\n",
    "                continue\n",
    "            \n",
    "            false_pair_img_target = None\n",
    "            random_i = ''\n",
    "            random_j = ''\n",
    "            while_cnt = -1\n",
    "            while false_pair_img_target is None:\n",
    "                while_cnt += 1\n",
    "                if while_cnt >= len(df): #while_cnt를 inner_df 길이 이상으로 했으면 충분히 찾았다고 치고 그냥 넘어감\n",
    "                    break\n",
    "                random_i = random.randint(idx+1, len(img_path_2dseries) - 1)\n",
    "                random_j = random.randint(0, len(df) - 1)\n",
    "                if (random_i, random_j) in used_img_list: # 이미지가 이번 id(0~399) 포문중에 쓰였다면 넘어감\n",
    "                    continue\n",
    "                false_pair_img_target = get_img(random_i, random_j) # 비동일쌍 타겟\n",
    "\n",
    "            used_img_tuple = (random_i, random_j)\n",
    "            used_img_list.append(used_img_tuple)\n",
    "\n",
    "            # 모든 쌍 요소와 라벨이 존재하므로 추가할 수 있음\n",
    "            # if(count == 5):\n",
    "            #     count = 0\n",
    "            #     break\n",
    "            \n",
    "            # 구성된 샴네트워크가 (이미지, 이미지), 라벨로 받길 원하는게 아니라, [배치수, (이미지리스트, 이미지리스트), 라벨]로 받길 원함\n",
    "            pair_source_list.append(pair_img_source)\n",
    "            pair_target_list.append(true_pair_img_target)\n",
    "            label_list.append(1)\n",
    "            \n",
    "            #테스트용\n",
    "            # print(pair_img_source.shape)\n",
    "            \n",
    "            pair_source_list.append(pair_img_source)\n",
    "            pair_target_list.append(false_pair_img_target)\n",
    "            label_list.append(0)\n",
    "\n",
    "            \n",
    "                            \n",
    "            #테스트용\n",
    "            # plot_pair(pair_img_source, false_pair_img_target, pair_img_source, true_pair_img_target)\n",
    "\n",
    "            # label_list가 제너레이터 배치보다 크거나 j_index가 마지막 인덱스 이상일때\n",
    "            if len(label_list) >= generator_batch or j_index >= len(random_numbers) - 1:\n",
    "                # 리스트를 NumPy 배열로 변환\n",
    "                pair_source_array = np.array(pair_source_list, dtype=np.float32)\n",
    "                pair_source_list.clear()\n",
    "                pair_target_array = np.array(pair_target_list, dtype=np.float32)\n",
    "                pair_target_list.clear()\n",
    "                label_array = np.array(label_list, dtype=np.int32)\n",
    "                label_list.clear()\n",
    "                \n",
    "                yield (pair_source_array, pair_target_array), label_array"
   ]
  },
  {
   "cell_type": "code",
   "execution_count": 8,
   "metadata": {},
   "outputs": [
    {
     "data": {
      "text/plain": [
       "3                                                    ...\n",
       "18                                                   ...\n",
       "202                                                  ...\n",
       "250                                                  ...\n",
       "274                                                  ...\n",
       "                             ...                        \n",
       "71                                                   ...\n",
       "106                                                  ...\n",
       "270                                                  ...\n",
       "348                                                  ...\n",
       "102                                                  ...\n",
       "Name: id_image_data_root, Length: 320, dtype: object"
      ]
     },
     "execution_count": 8,
     "metadata": {},
     "output_type": "execute_result"
    }
   ],
   "source": [
    "from sklearn.model_selection import train_test_split\n",
    "\n",
    "def split_dataset(df_series, test_size=0.2, random_state=42):\n",
    "    train_df_series, val_df_series = train_test_split(df_series, test_size=test_size, random_state=random_state)\n",
    "    return train_df_series, val_df_series\n",
    "\n",
    "train_df_series, val_df_series = split_dataset(img_path_2dseries, test_size=0.2)\n",
    "train_df_series"
   ]
  },
  {
   "cell_type": "code",
   "execution_count": 9,
   "metadata": {},
   "outputs": [],
   "source": [
    "from utils.face_verifier2 import Verifier2\n",
    "from utils.math import get_contrastive_loss\n",
    "import tensorflow as tf\n",
    "\n",
    "learning_rate = 0.0001\n",
    "\n",
    "verifier = Verifier2(model_name, metric)\n",
    "#############################\n",
    "verifier.model.load_weights('vggface_weights/vggface_weights_09.h5')\n",
    "#############################\n",
    "\n",
    "# 손실 함수, 평가 지표 정의\n",
    "opt = tf.keras.optimizers.Adam(learning_rate=learning_rate, beta_1=0.9, beta_2=0.999, epsilon=1e-7)\n",
    "# opt = tf.keras.optimizers.RMSprop(learning_rate=0.0001, rho=0.9, momentum=0.9, epsilon=1e-6)\n",
    "loss = [\"binary_crossentropy\"] #contrastive(거리값으로 대조할 때) / 이진분류의 대표적 손실함수 \n",
    "metrics = [\"accuracy\"]\n",
    "\n",
    "verifier.model.compile(\n",
    "    optimizer=opt,\n",
    "    loss=loss,\n",
    "    metrics=metrics\n",
    ")\n"
   ]
  },
  {
   "cell_type": "code",
   "execution_count": 10,
   "metadata": {},
   "outputs": [
    {
     "name": "stdout",
     "output_type": "stream",
     "text": [
      "Model: \"model_2\"\n",
      "__________________________________________________________________________________________________\n",
      " Layer (type)                   Output Shape         Param #     Connected to                     \n",
      "==================================================================================================\n",
      " input_1 (InputLayer)           [(None, 224, 224, 3  0           []                               \n",
      "                                )]                                                                \n",
      "                                                                                                  \n",
      " input_2 (InputLayer)           [(None, 224, 224, 3  0           []                               \n",
      "                                )]                                                                \n",
      "                                                                                                  \n",
      " model_1 (Functional)           (None, 2622)         151880384   ['input_1[0][0]',                \n",
      "                                                                  'input_2[0][0]']                \n",
      "                                                                                                  \n",
      " distance_layer (distanceLayer)  (None, 1)           0           ['model_1[0][0]',                \n",
      "                                                                  'model_1[1][0]']                \n",
      "                                                                                                  \n",
      " dense_1 (Dense)                (None, 1)            2           ['distance_layer[0][0]']         \n",
      "                                                                                                  \n",
      "==================================================================================================\n",
      "Total params: 151,880,386\n",
      "Trainable params: 6,877,508\n",
      "Non-trainable params: 145,002,878\n",
      "__________________________________________________________________________________________________\n"
     ]
    }
   ],
   "source": [
    "verifier.model.summary()"
   ]
  },
  {
   "cell_type": "code",
   "execution_count": 11,
   "metadata": {},
   "outputs": [
    {
     "data": {
      "text/plain": [
       "[(None, 224, 224, 3), (None, 224, 224, 3)]"
      ]
     },
     "execution_count": 11,
     "metadata": {},
     "output_type": "execute_result"
    }
   ],
   "source": [
    "verifier.model.input_shape"
   ]
  },
  {
   "cell_type": "code",
   "execution_count": 12,
   "metadata": {},
   "outputs": [
    {
     "name": "stdout",
     "output_type": "stream",
     "text": [
      "Epoch 1/3\n",
      "1920/1920 [==============================] - ETA: 0s - loss: 0.6291 - accuracy: 0.6452"
     ]
    },
    {
     "ename": "KeyboardInterrupt",
     "evalue": "",
     "output_type": "error",
     "traceback": [
      "\u001b[1;31m---------------------------------------------------------------------------\u001b[0m",
      "\u001b[1;31mKeyboardInterrupt\u001b[0m                         Traceback (most recent call last)",
      "\u001b[1;32m~\\AppData\\Local\\Temp\\ipykernel_21508\\1024038444.py\u001b[0m in \u001b[0;36m<module>\u001b[1;34m\u001b[0m\n\u001b[0;32m     90\u001b[0m     \u001b[0mverbose\u001b[0m\u001b[1;33m=\u001b[0m\u001b[1;36m1\u001b[0m\u001b[1;33m,\u001b[0m\u001b[1;33m\u001b[0m\u001b[1;33m\u001b[0m\u001b[0m\n\u001b[0;32m     91\u001b[0m     \u001b[0msteps_per_epoch\u001b[0m\u001b[1;33m=\u001b[0m\u001b[0msteps_per_epoch\u001b[0m\u001b[1;33m,\u001b[0m\u001b[1;33m\u001b[0m\u001b[1;33m\u001b[0m\u001b[0m\n\u001b[1;32m---> 92\u001b[1;33m     \u001b[0mvalidation_steps\u001b[0m\u001b[1;33m=\u001b[0m \u001b[0mvalidation_steps\u001b[0m\u001b[1;33m\u001b[0m\u001b[1;33m\u001b[0m\u001b[0m\n\u001b[0m\u001b[0;32m     93\u001b[0m )\n",
      "\u001b[1;32mc:\\Users\\scinn\\.conda\\envs\\cp2\\lib\\site-packages\\keras\\utils\\traceback_utils.py\u001b[0m in \u001b[0;36merror_handler\u001b[1;34m(*args, **kwargs)\u001b[0m\n\u001b[0;32m     62\u001b[0m     \u001b[0mfiltered_tb\u001b[0m \u001b[1;33m=\u001b[0m \u001b[1;32mNone\u001b[0m\u001b[1;33m\u001b[0m\u001b[1;33m\u001b[0m\u001b[0m\n\u001b[0;32m     63\u001b[0m     \u001b[1;32mtry\u001b[0m\u001b[1;33m:\u001b[0m\u001b[1;33m\u001b[0m\u001b[1;33m\u001b[0m\u001b[0m\n\u001b[1;32m---> 64\u001b[1;33m       \u001b[1;32mreturn\u001b[0m \u001b[0mfn\u001b[0m\u001b[1;33m(\u001b[0m\u001b[1;33m*\u001b[0m\u001b[0margs\u001b[0m\u001b[1;33m,\u001b[0m \u001b[1;33m**\u001b[0m\u001b[0mkwargs\u001b[0m\u001b[1;33m)\u001b[0m\u001b[1;33m\u001b[0m\u001b[1;33m\u001b[0m\u001b[0m\n\u001b[0m\u001b[0;32m     65\u001b[0m     \u001b[1;32mexcept\u001b[0m \u001b[0mException\u001b[0m \u001b[1;32mas\u001b[0m \u001b[0me\u001b[0m\u001b[1;33m:\u001b[0m  \u001b[1;31m# pylint: disable=broad-except\u001b[0m\u001b[1;33m\u001b[0m\u001b[1;33m\u001b[0m\u001b[0m\n\u001b[0;32m     66\u001b[0m       \u001b[0mfiltered_tb\u001b[0m \u001b[1;33m=\u001b[0m \u001b[0m_process_traceback_frames\u001b[0m\u001b[1;33m(\u001b[0m\u001b[0me\u001b[0m\u001b[1;33m.\u001b[0m\u001b[0m__traceback__\u001b[0m\u001b[1;33m)\u001b[0m\u001b[1;33m\u001b[0m\u001b[1;33m\u001b[0m\u001b[0m\n",
      "\u001b[1;32mc:\\Users\\scinn\\.conda\\envs\\cp2\\lib\\site-packages\\keras\\engine\\training.py\u001b[0m in \u001b[0;36mfit\u001b[1;34m(self, x, y, batch_size, epochs, verbose, callbacks, validation_split, validation_data, shuffle, class_weight, sample_weight, initial_epoch, steps_per_epoch, validation_steps, validation_batch_size, validation_freq, max_queue_size, workers, use_multiprocessing)\u001b[0m\n\u001b[0;32m   1454\u001b[0m               \u001b[0muse_multiprocessing\u001b[0m\u001b[1;33m=\u001b[0m\u001b[0muse_multiprocessing\u001b[0m\u001b[1;33m,\u001b[0m\u001b[1;33m\u001b[0m\u001b[1;33m\u001b[0m\u001b[0m\n\u001b[0;32m   1455\u001b[0m               \u001b[0mreturn_dict\u001b[0m\u001b[1;33m=\u001b[0m\u001b[1;32mTrue\u001b[0m\u001b[1;33m,\u001b[0m\u001b[1;33m\u001b[0m\u001b[1;33m\u001b[0m\u001b[0m\n\u001b[1;32m-> 1456\u001b[1;33m               _use_cached_eval_dataset=True)\n\u001b[0m\u001b[0;32m   1457\u001b[0m           \u001b[0mval_logs\u001b[0m \u001b[1;33m=\u001b[0m \u001b[1;33m{\u001b[0m\u001b[1;34m'val_'\u001b[0m \u001b[1;33m+\u001b[0m \u001b[0mname\u001b[0m\u001b[1;33m:\u001b[0m \u001b[0mval\u001b[0m \u001b[1;32mfor\u001b[0m \u001b[0mname\u001b[0m\u001b[1;33m,\u001b[0m \u001b[0mval\u001b[0m \u001b[1;32min\u001b[0m \u001b[0mval_logs\u001b[0m\u001b[1;33m.\u001b[0m\u001b[0mitems\u001b[0m\u001b[1;33m(\u001b[0m\u001b[1;33m)\u001b[0m\u001b[1;33m}\u001b[0m\u001b[1;33m\u001b[0m\u001b[1;33m\u001b[0m\u001b[0m\n\u001b[0;32m   1458\u001b[0m           \u001b[0mepoch_logs\u001b[0m\u001b[1;33m.\u001b[0m\u001b[0mupdate\u001b[0m\u001b[1;33m(\u001b[0m\u001b[0mval_logs\u001b[0m\u001b[1;33m)\u001b[0m\u001b[1;33m\u001b[0m\u001b[1;33m\u001b[0m\u001b[0m\n",
      "\u001b[1;32mc:\\Users\\scinn\\.conda\\envs\\cp2\\lib\\site-packages\\keras\\utils\\traceback_utils.py\u001b[0m in \u001b[0;36merror_handler\u001b[1;34m(*args, **kwargs)\u001b[0m\n\u001b[0;32m     62\u001b[0m     \u001b[0mfiltered_tb\u001b[0m \u001b[1;33m=\u001b[0m \u001b[1;32mNone\u001b[0m\u001b[1;33m\u001b[0m\u001b[1;33m\u001b[0m\u001b[0m\n\u001b[0;32m     63\u001b[0m     \u001b[1;32mtry\u001b[0m\u001b[1;33m:\u001b[0m\u001b[1;33m\u001b[0m\u001b[1;33m\u001b[0m\u001b[0m\n\u001b[1;32m---> 64\u001b[1;33m       \u001b[1;32mreturn\u001b[0m \u001b[0mfn\u001b[0m\u001b[1;33m(\u001b[0m\u001b[1;33m*\u001b[0m\u001b[0margs\u001b[0m\u001b[1;33m,\u001b[0m \u001b[1;33m**\u001b[0m\u001b[0mkwargs\u001b[0m\u001b[1;33m)\u001b[0m\u001b[1;33m\u001b[0m\u001b[1;33m\u001b[0m\u001b[0m\n\u001b[0m\u001b[0;32m     65\u001b[0m     \u001b[1;32mexcept\u001b[0m \u001b[0mException\u001b[0m \u001b[1;32mas\u001b[0m \u001b[0me\u001b[0m\u001b[1;33m:\u001b[0m  \u001b[1;31m# pylint: disable=broad-except\u001b[0m\u001b[1;33m\u001b[0m\u001b[1;33m\u001b[0m\u001b[0m\n\u001b[0;32m     66\u001b[0m       \u001b[0mfiltered_tb\u001b[0m \u001b[1;33m=\u001b[0m \u001b[0m_process_traceback_frames\u001b[0m\u001b[1;33m(\u001b[0m\u001b[0me\u001b[0m\u001b[1;33m.\u001b[0m\u001b[0m__traceback__\u001b[0m\u001b[1;33m)\u001b[0m\u001b[1;33m\u001b[0m\u001b[1;33m\u001b[0m\u001b[0m\n",
      "\u001b[1;32mc:\\Users\\scinn\\.conda\\envs\\cp2\\lib\\site-packages\\keras\\engine\\training.py\u001b[0m in \u001b[0;36mevaluate\u001b[1;34m(self, x, y, batch_size, verbose, sample_weight, steps, callbacks, max_queue_size, workers, use_multiprocessing, return_dict, **kwargs)\u001b[0m\n\u001b[0;32m   1754\u001b[0m             \u001b[1;32mwith\u001b[0m \u001b[0mtf\u001b[0m\u001b[1;33m.\u001b[0m\u001b[0mprofiler\u001b[0m\u001b[1;33m.\u001b[0m\u001b[0mexperimental\u001b[0m\u001b[1;33m.\u001b[0m\u001b[0mTrace\u001b[0m\u001b[1;33m(\u001b[0m\u001b[1;34m'test'\u001b[0m\u001b[1;33m,\u001b[0m \u001b[0mstep_num\u001b[0m\u001b[1;33m=\u001b[0m\u001b[0mstep\u001b[0m\u001b[1;33m,\u001b[0m \u001b[0m_r\u001b[0m\u001b[1;33m=\u001b[0m\u001b[1;36m1\u001b[0m\u001b[1;33m)\u001b[0m\u001b[1;33m:\u001b[0m\u001b[1;33m\u001b[0m\u001b[1;33m\u001b[0m\u001b[0m\n\u001b[0;32m   1755\u001b[0m               \u001b[0mcallbacks\u001b[0m\u001b[1;33m.\u001b[0m\u001b[0mon_test_batch_begin\u001b[0m\u001b[1;33m(\u001b[0m\u001b[0mstep\u001b[0m\u001b[1;33m)\u001b[0m\u001b[1;33m\u001b[0m\u001b[1;33m\u001b[0m\u001b[0m\n\u001b[1;32m-> 1756\u001b[1;33m               \u001b[0mtmp_logs\u001b[0m \u001b[1;33m=\u001b[0m \u001b[0mself\u001b[0m\u001b[1;33m.\u001b[0m\u001b[0mtest_function\u001b[0m\u001b[1;33m(\u001b[0m\u001b[0miterator\u001b[0m\u001b[1;33m)\u001b[0m\u001b[1;33m\u001b[0m\u001b[1;33m\u001b[0m\u001b[0m\n\u001b[0m\u001b[0;32m   1757\u001b[0m               \u001b[1;32mif\u001b[0m \u001b[0mdata_handler\u001b[0m\u001b[1;33m.\u001b[0m\u001b[0mshould_sync\u001b[0m\u001b[1;33m:\u001b[0m\u001b[1;33m\u001b[0m\u001b[1;33m\u001b[0m\u001b[0m\n\u001b[0;32m   1758\u001b[0m                 \u001b[0mcontext\u001b[0m\u001b[1;33m.\u001b[0m\u001b[0masync_wait\u001b[0m\u001b[1;33m(\u001b[0m\u001b[1;33m)\u001b[0m\u001b[1;33m\u001b[0m\u001b[1;33m\u001b[0m\u001b[0m\n",
      "\u001b[1;32mc:\\Users\\scinn\\.conda\\envs\\cp2\\lib\\site-packages\\tensorflow\\python\\util\\traceback_utils.py\u001b[0m in \u001b[0;36merror_handler\u001b[1;34m(*args, **kwargs)\u001b[0m\n\u001b[0;32m    148\u001b[0m     \u001b[0mfiltered_tb\u001b[0m \u001b[1;33m=\u001b[0m \u001b[1;32mNone\u001b[0m\u001b[1;33m\u001b[0m\u001b[1;33m\u001b[0m\u001b[0m\n\u001b[0;32m    149\u001b[0m     \u001b[1;32mtry\u001b[0m\u001b[1;33m:\u001b[0m\u001b[1;33m\u001b[0m\u001b[1;33m\u001b[0m\u001b[0m\n\u001b[1;32m--> 150\u001b[1;33m       \u001b[1;32mreturn\u001b[0m \u001b[0mfn\u001b[0m\u001b[1;33m(\u001b[0m\u001b[1;33m*\u001b[0m\u001b[0margs\u001b[0m\u001b[1;33m,\u001b[0m \u001b[1;33m**\u001b[0m\u001b[0mkwargs\u001b[0m\u001b[1;33m)\u001b[0m\u001b[1;33m\u001b[0m\u001b[1;33m\u001b[0m\u001b[0m\n\u001b[0m\u001b[0;32m    151\u001b[0m     \u001b[1;32mexcept\u001b[0m \u001b[0mException\u001b[0m \u001b[1;32mas\u001b[0m \u001b[0me\u001b[0m\u001b[1;33m:\u001b[0m\u001b[1;33m\u001b[0m\u001b[1;33m\u001b[0m\u001b[0m\n\u001b[0;32m    152\u001b[0m       \u001b[0mfiltered_tb\u001b[0m \u001b[1;33m=\u001b[0m \u001b[0m_process_traceback_frames\u001b[0m\u001b[1;33m(\u001b[0m\u001b[0me\u001b[0m\u001b[1;33m.\u001b[0m\u001b[0m__traceback__\u001b[0m\u001b[1;33m)\u001b[0m\u001b[1;33m\u001b[0m\u001b[1;33m\u001b[0m\u001b[0m\n",
      "\u001b[1;32mc:\\Users\\scinn\\.conda\\envs\\cp2\\lib\\site-packages\\tensorflow\\python\\eager\\def_function.py\u001b[0m in \u001b[0;36m__call__\u001b[1;34m(self, *args, **kwds)\u001b[0m\n\u001b[0;32m    913\u001b[0m \u001b[1;33m\u001b[0m\u001b[0m\n\u001b[0;32m    914\u001b[0m       \u001b[1;32mwith\u001b[0m \u001b[0mOptionalXlaContext\u001b[0m\u001b[1;33m(\u001b[0m\u001b[0mself\u001b[0m\u001b[1;33m.\u001b[0m\u001b[0m_jit_compile\u001b[0m\u001b[1;33m)\u001b[0m\u001b[1;33m:\u001b[0m\u001b[1;33m\u001b[0m\u001b[1;33m\u001b[0m\u001b[0m\n\u001b[1;32m--> 915\u001b[1;33m         \u001b[0mresult\u001b[0m \u001b[1;33m=\u001b[0m \u001b[0mself\u001b[0m\u001b[1;33m.\u001b[0m\u001b[0m_call\u001b[0m\u001b[1;33m(\u001b[0m\u001b[1;33m*\u001b[0m\u001b[0margs\u001b[0m\u001b[1;33m,\u001b[0m \u001b[1;33m**\u001b[0m\u001b[0mkwds\u001b[0m\u001b[1;33m)\u001b[0m\u001b[1;33m\u001b[0m\u001b[1;33m\u001b[0m\u001b[0m\n\u001b[0m\u001b[0;32m    916\u001b[0m \u001b[1;33m\u001b[0m\u001b[0m\n\u001b[0;32m    917\u001b[0m       \u001b[0mnew_tracing_count\u001b[0m \u001b[1;33m=\u001b[0m \u001b[0mself\u001b[0m\u001b[1;33m.\u001b[0m\u001b[0mexperimental_get_tracing_count\u001b[0m\u001b[1;33m(\u001b[0m\u001b[1;33m)\u001b[0m\u001b[1;33m\u001b[0m\u001b[1;33m\u001b[0m\u001b[0m\n",
      "\u001b[1;32mc:\\Users\\scinn\\.conda\\envs\\cp2\\lib\\site-packages\\tensorflow\\python\\eager\\def_function.py\u001b[0m in \u001b[0;36m_call\u001b[1;34m(self, *args, **kwds)\u001b[0m\n\u001b[0;32m    952\u001b[0m       \u001b[1;31m# In this case we have not created variables on the first call. So we can\u001b[0m\u001b[1;33m\u001b[0m\u001b[1;33m\u001b[0m\u001b[1;33m\u001b[0m\u001b[0m\n\u001b[0;32m    953\u001b[0m       \u001b[1;31m# run the first trace but we should fail if variables are created.\u001b[0m\u001b[1;33m\u001b[0m\u001b[1;33m\u001b[0m\u001b[1;33m\u001b[0m\u001b[0m\n\u001b[1;32m--> 954\u001b[1;33m       \u001b[0mresults\u001b[0m \u001b[1;33m=\u001b[0m \u001b[0mself\u001b[0m\u001b[1;33m.\u001b[0m\u001b[0m_stateful_fn\u001b[0m\u001b[1;33m(\u001b[0m\u001b[1;33m*\u001b[0m\u001b[0margs\u001b[0m\u001b[1;33m,\u001b[0m \u001b[1;33m**\u001b[0m\u001b[0mkwds\u001b[0m\u001b[1;33m)\u001b[0m\u001b[1;33m\u001b[0m\u001b[1;33m\u001b[0m\u001b[0m\n\u001b[0m\u001b[0;32m    955\u001b[0m       \u001b[1;32mif\u001b[0m \u001b[0mself\u001b[0m\u001b[1;33m.\u001b[0m\u001b[0m_created_variables\u001b[0m \u001b[1;32mand\u001b[0m \u001b[1;32mnot\u001b[0m \u001b[0mALLOW_DYNAMIC_VARIABLE_CREATION\u001b[0m\u001b[1;33m:\u001b[0m\u001b[1;33m\u001b[0m\u001b[1;33m\u001b[0m\u001b[0m\n\u001b[0;32m    956\u001b[0m         raise ValueError(\"Creating variables on a non-first call to a function\"\n",
      "\u001b[1;32mc:\\Users\\scinn\\.conda\\envs\\cp2\\lib\\site-packages\\tensorflow\\python\\eager\\function.py\u001b[0m in \u001b[0;36m__call__\u001b[1;34m(self, *args, **kwargs)\u001b[0m\n\u001b[0;32m   2452\u001b[0m        filtered_flat_args) = self._maybe_define_function(args, kwargs)\n\u001b[0;32m   2453\u001b[0m     return graph_function._call_flat(\n\u001b[1;32m-> 2454\u001b[1;33m         filtered_flat_args, captured_inputs=graph_function.captured_inputs)  # pylint: disable=protected-access\n\u001b[0m\u001b[0;32m   2455\u001b[0m \u001b[1;33m\u001b[0m\u001b[0m\n\u001b[0;32m   2456\u001b[0m   \u001b[1;33m@\u001b[0m\u001b[0mproperty\u001b[0m\u001b[1;33m\u001b[0m\u001b[1;33m\u001b[0m\u001b[0m\n",
      "\u001b[1;32mc:\\Users\\scinn\\.conda\\envs\\cp2\\lib\\site-packages\\tensorflow\\python\\eager\\function.py\u001b[0m in \u001b[0;36m_call_flat\u001b[1;34m(self, args, captured_inputs, cancellation_manager)\u001b[0m\n\u001b[0;32m   1859\u001b[0m       \u001b[1;31m# No tape is watching; skip to running the function.\u001b[0m\u001b[1;33m\u001b[0m\u001b[1;33m\u001b[0m\u001b[1;33m\u001b[0m\u001b[0m\n\u001b[0;32m   1860\u001b[0m       return self._build_call_outputs(self._inference_function.call(\n\u001b[1;32m-> 1861\u001b[1;33m           ctx, args, cancellation_manager=cancellation_manager))\n\u001b[0m\u001b[0;32m   1862\u001b[0m     forward_backward = self._select_forward_and_backward_functions(\n\u001b[0;32m   1863\u001b[0m         \u001b[0margs\u001b[0m\u001b[1;33m,\u001b[0m\u001b[1;33m\u001b[0m\u001b[1;33m\u001b[0m\u001b[0m\n",
      "\u001b[1;32mc:\\Users\\scinn\\.conda\\envs\\cp2\\lib\\site-packages\\tensorflow\\python\\eager\\function.py\u001b[0m in \u001b[0;36mcall\u001b[1;34m(self, ctx, args, cancellation_manager)\u001b[0m\n\u001b[0;32m    500\u001b[0m               \u001b[0minputs\u001b[0m\u001b[1;33m=\u001b[0m\u001b[0margs\u001b[0m\u001b[1;33m,\u001b[0m\u001b[1;33m\u001b[0m\u001b[1;33m\u001b[0m\u001b[0m\n\u001b[0;32m    501\u001b[0m               \u001b[0mattrs\u001b[0m\u001b[1;33m=\u001b[0m\u001b[0mattrs\u001b[0m\u001b[1;33m,\u001b[0m\u001b[1;33m\u001b[0m\u001b[1;33m\u001b[0m\u001b[0m\n\u001b[1;32m--> 502\u001b[1;33m               ctx=ctx)\n\u001b[0m\u001b[0;32m    503\u001b[0m         \u001b[1;32melse\u001b[0m\u001b[1;33m:\u001b[0m\u001b[1;33m\u001b[0m\u001b[1;33m\u001b[0m\u001b[0m\n\u001b[0;32m    504\u001b[0m           outputs = execute.execute_with_cancellation(\n",
      "\u001b[1;32mc:\\Users\\scinn\\.conda\\envs\\cp2\\lib\\site-packages\\tensorflow\\python\\eager\\execute.py\u001b[0m in \u001b[0;36mquick_execute\u001b[1;34m(op_name, num_outputs, inputs, attrs, ctx, name)\u001b[0m\n\u001b[0;32m     53\u001b[0m     \u001b[0mctx\u001b[0m\u001b[1;33m.\u001b[0m\u001b[0mensure_initialized\u001b[0m\u001b[1;33m(\u001b[0m\u001b[1;33m)\u001b[0m\u001b[1;33m\u001b[0m\u001b[1;33m\u001b[0m\u001b[0m\n\u001b[0;32m     54\u001b[0m     tensors = pywrap_tfe.TFE_Py_Execute(ctx._handle, device_name, op_name,\n\u001b[1;32m---> 55\u001b[1;33m                                         inputs, attrs, num_outputs)\n\u001b[0m\u001b[0;32m     56\u001b[0m   \u001b[1;32mexcept\u001b[0m \u001b[0mcore\u001b[0m\u001b[1;33m.\u001b[0m\u001b[0m_NotOkStatusException\u001b[0m \u001b[1;32mas\u001b[0m \u001b[0me\u001b[0m\u001b[1;33m:\u001b[0m\u001b[1;33m\u001b[0m\u001b[1;33m\u001b[0m\u001b[0m\n\u001b[0;32m     57\u001b[0m     \u001b[1;32mif\u001b[0m \u001b[0mname\u001b[0m \u001b[1;32mis\u001b[0m \u001b[1;32mnot\u001b[0m \u001b[1;32mNone\u001b[0m\u001b[1;33m:\u001b[0m\u001b[1;33m\u001b[0m\u001b[1;33m\u001b[0m\u001b[0m\n",
      "\u001b[1;31mKeyboardInterrupt\u001b[0m: "
     ]
    }
   ],
   "source": [
    "import os, math\n",
    "from tensorflow.keras.callbacks import TensorBoard\n",
    "\n",
    "dir_path = \"./vggface_weights\"\n",
    "POST_FIX = '_weights_03epoch_{epoch:02d}-{val_accuracy:.3f}.h5'\n",
    "# BATCH_SIZE = 4\n",
    "BATCH_SIZE = 64\n",
    "NUM_PER_ID = 192\n",
    "# NUM_PER_ID = 1 #테스트\n",
    "EPOCHS = 3\n",
    "PATIENCE = 3\n",
    "\n",
    "# log_dir = '/logs'  # 로그가 저장될 디렉토리\n",
    "# tensorboard_callback = TensorBoard(log_dir=os.path.join(dir_path, log_dir), histogram_freq=1, update_freq=1)\n",
    "\n",
    "if not os.path.exists(dir_path):\n",
    "    os.mkdir(dir_path)\n",
    "\n",
    "output_signature = (\n",
    "    (tf.TensorSpec(shape=verifier.model.input_shape[0], dtype=tf.float32),\n",
    "     tf.TensorSpec(shape=verifier.model.input_shape[1], dtype=tf.float32)),\n",
    "    tf.TensorSpec(shape=(None,), dtype=tf.int32)\n",
    ")\n",
    "\n",
    "train_ds = tf.data.Dataset.from_generator(\n",
    "    generator= lambda: generator(train_df_series, BATCH_SIZE * 2, NUM_PER_ID),\n",
    "    output_signature=output_signature,\n",
    ").repeat()\n",
    "# train_generator = generator(train_df_series, EPOCHS, BATCH_SIZE * 2, NUM_PER_ID)\n",
    "\n",
    "val_ds = tf.data.Dataset.from_generator(\n",
    "    generator= lambda: generator(val_df_series, BATCH_SIZE * 2, NUM_PER_ID),\n",
    "    output_signature=output_signature,\n",
    "    # output_types=((tf.float32, tf.float32), tf.int32), #deprecated\n",
    "    # output_shapes=( (verifier.model.input_shape[0], verifier.model.input_shape[1]), None ), #deprecated\n",
    ").repeat()\n",
    "# val_generator = generator(val_df_series, EPOCHS, BATCH_SIZE * 2, NUM_PER_ID)\n",
    "\n",
    "# 데이터셋 테스트\n",
    "# for elem in train_ds.take(1):\n",
    "#     print(elem)\n",
    "# for elem in val_ds.take(1):\n",
    "#     print(elem)\n",
    "\n",
    "\n",
    "# 스텝 설정\n",
    "steps_per_epoch = math.ceil(len(train_df_series) * NUM_PER_ID * 2 / BATCH_SIZE) # 사실 미묘하게 안맞는데 비슷해서 이렇게 씀\n",
    "validation_steps = math.ceil(len(val_df_series) * NUM_PER_ID * 2 / BATCH_SIZE) # 사실 미묘하게 안맞는데 비슷해서 이렇게 씀\n",
    "\n",
    "\n",
    "run_options = tf.compat.v1.RunOptions()\n",
    "run_options.report_tensor_allocations_upon_oom = True\n",
    "\n",
    "\n",
    "# # 가중치파일 최신 10개만 남김\n",
    "# def keep_latest_n_weights(dir_path, n=10):\n",
    "#     if not os.path.exists(dir_path):\n",
    "#         os.mkdir(dir_path)\n",
    "#         return\n",
    "    \n",
    "#     weights_files = sorted([f for f in os.listdir(dir_path) if f.endswith('.h5')], \n",
    "#                            key=lambda x: os.path.getmtime(os.path.join(dir_path, x)), reverse=True)\n",
    "#     for f in weights_files[n:]:\n",
    "#         os.remove(os.path.join(dir_path, f))\n",
    "\n",
    "# LambdaCallback 설정\n",
    "keep_latest_weights_callback = tf.keras.callbacks.LambdaCallback(\n",
    "    on_epoch_end=lambda epoch, logs: keep_latest_n_weights(dir_path, n=10)\n",
    ")\n",
    "\n",
    "checkpoint_callback = tf.keras.callbacks.ModelCheckpoint(\n",
    "    filepath=f'{dir_path}/' + model_name + POST_FIX,\n",
    "    save_weights_only=True,\n",
    "    monitor='val_loss',\n",
    "    mode='min',\n",
    "    save_best_only=False,\n",
    "    save_freq='epoch', # 1에폭마다 저장함\n",
    "    verbose=1,\n",
    ")\n",
    "\n",
    "early = tf.keras.callbacks.EarlyStopping(monitor='val_loss', patience=PATIENCE)\n",
    "\n",
    "history = verifier.model.fit(\n",
    "    train_ds,\n",
    "    validation_data=val_ds,\n",
    "    epochs=EPOCHS,\n",
    "    # callbacks=[checkpoint_callback, early, tensorboard_callback],\n",
    "    callbacks=[checkpoint_callback, early],\n",
    "    batch_size = BATCH_SIZE,\n",
    "    verbose=1,\n",
    "    steps_per_epoch=steps_per_epoch,\n",
    "    validation_steps= validation_steps\n",
    ")"
   ]
  },
  {
   "cell_type": "code",
   "execution_count": 13,
   "metadata": {},
   "outputs": [],
   "source": [
    "verifier.model.save_weights('vggface_weights/vggface_weights_10.h5')"
   ]
  },
  {
   "cell_type": "code",
   "execution_count": null,
   "metadata": {},
   "outputs": [
    {
     "data": {
      "text/plain": [
       "((None, 224, 224, 3), (None, 224, 224, 3))"
      ]
     },
     "execution_count": 13,
     "metadata": {},
     "output_type": "execute_result"
    }
   ],
   "source": [
    "(verifier.model.input_shape[0], verifier.model.input_shape[1])"
   ]
  },
  {
   "cell_type": "code",
   "execution_count": null,
   "metadata": {},
   "outputs": [
    {
     "data": {
      "image/png": "[encoded data removed]",
      "text/plain": [
       "<Figure size 1200x800 with 1 Axes>"
      ]
     },
     "metadata": {},
     "output_type": "display_data"
    }
   ],
   "source": [
    "from utils.plot import plot_history\n",
    "plot_history(history)"
   ]
  },
  {
   "cell_type": "code",
   "execution_count": null,
   "metadata": {},
   "outputs": [
    {
     "name": "stdout",
     "output_type": "stream",
     "text": [
      "input_1 True\n",
      "input_2 True\n",
      "model True\n",
      "distance_layer True\n",
      "dense True\n"
     ]
    }
   ],
   "source": [
    "for layer in verifier.model.layers:\n",
    "    print(layer.name, layer.trainable)\n"
   ]
  },
  {
   "cell_type": "code",
   "execution_count": null,
   "metadata": {},
   "outputs": [],
   "source": [
    "model_name = 'arcface'\n",
    "metric = 'cosine'\n",
    "learning_rate = 0.0002\n",
    "\n",
    "verifier = Verifier2(model_name, metric)\n",
    "\n",
    "# 손실 함수, 평가 지표 정의\n",
    "opt = tf.keras.optimizers.Adam(learning_rate=learning_rate, beta_1=0.9, beta_2=0.999, epsilon=1e-7)\n",
    "# opt = tf.keras.optimizers.RMSprop(learning_rate=0.0001, rho=0.9, momentum=0.9, epsilon=1e-6)\n",
    "loss = [\"binary_crossentropy\"] # contrastive(거리값으로 대조할 때) / 이진분류의 대표적 손실함수 \n",
    "metrics = [\"accuracy\"]\n",
    "\n",
    "verifier.model.compile(\n",
    "    optimizer=opt,\n",
    "    loss=loss,\n",
    "    metrics=metrics\n",
    ")"
   ]
  },
  {
   "cell_type": "code",
   "execution_count": null,
   "metadata": {},
   "outputs": [
    {
     "name": "stdout",
     "output_type": "stream",
     "text": [
      "Model: \"model_2\"\n",
      "__________________________________________________________________________________________________\n",
      " Layer (type)                   Output Shape         Param #     Connected to                     \n",
      "==================================================================================================\n",
      " input_3 (InputLayer)           [(None, 160, 160, 3  0           []                               \n",
      "                                )]                                                                \n",
      "                                                                                                  \n",
      " input_4 (InputLayer)           [(None, 160, 160, 3  0           []                               \n",
      "                                )]                                                                \n",
      "                                                                                                  \n",
      " inception_resnet_v1 (Functiona  (None, 512)         23497424    ['input_3[0][0]',                \n",
      " l)                                                               'input_4[0][0]']                \n",
      "                                                                                                  \n",
      " l2_euclidean_distance_layer (L  (None, 1)           0           ['inception_resnet_v1[0][0]',    \n",
      " 2EuclideanDistanceLayer)                                         'inception_resnet_v1[1][0]']    \n",
      "                                                                                                  \n",
      " dense_1 (Dense)                (None, 1)            2           ['l2_euclidean_distance_layer[0][\n",
      "                                                                 0]']                             \n",
      "                                                                                                  \n",
      "==================================================================================================\n",
      "Total params: 23,497,426\n",
      "Trainable params: 23,467,826\n",
      "Non-trainable params: 29,600\n",
      "__________________________________________________________________________________________________\n"
     ]
    }
   ],
   "source": [
    "verifier.model.summary()"
   ]
  },
  {
   "cell_type": "code",
   "execution_count": null,
   "metadata": {},
   "outputs": [
    {
     "data": {
      "text/plain": [
       "[(None, 160, 160, 3), (None, 160, 160, 3)]"
      ]
     },
     "execution_count": 18,
     "metadata": {},
     "output_type": "execute_result"
    }
   ],
   "source": [
    "verifier.model.input_shape"
   ]
  },
  {
   "cell_type": "code",
   "execution_count": null,
   "metadata": {},
   "outputs": [
    {
     "ename": "TypeError",
     "evalue": "generator() takes from 1 to 3 positional arguments but 4 were given",
     "output_type": "error",
     "traceback": [
      "\u001b[1;31m---------------------------------------------------------------------------\u001b[0m",
      "\u001b[1;31mTypeError\u001b[0m                                 Traceback (most recent call last)",
      "\u001b[1;32m~\\AppData\\Local\\Temp\\ipykernel_14452\\1322467390.py\u001b[0m in \u001b[0;36m<module>\u001b[1;34m\u001b[0m\n\u001b[0;32m     12\u001b[0m \u001b[1;33m\u001b[0m\u001b[0m\n\u001b[0;32m     13\u001b[0m \u001b[1;33m\u001b[0m\u001b[0m\n\u001b[1;32m---> 14\u001b[1;33m \u001b[0mtrain_generator\u001b[0m \u001b[1;33m=\u001b[0m \u001b[0mgenerator\u001b[0m\u001b[1;33m(\u001b[0m\u001b[0mtrain_df_series\u001b[0m\u001b[1;33m,\u001b[0m \u001b[0mEPOCHS\u001b[0m\u001b[1;33m,\u001b[0m \u001b[0mBATCH_SIZE\u001b[0m \u001b[1;33m*\u001b[0m \u001b[1;36m2\u001b[0m\u001b[1;33m,\u001b[0m \u001b[0mNUM_PER_ID\u001b[0m\u001b[1;33m)\u001b[0m\u001b[1;33m\u001b[0m\u001b[1;33m\u001b[0m\u001b[0m\n\u001b[0m\u001b[0;32m     15\u001b[0m \u001b[1;33m\u001b[0m\u001b[0m\n\u001b[0;32m     16\u001b[0m \u001b[0mval_generator\u001b[0m \u001b[1;33m=\u001b[0m \u001b[0mgenerator\u001b[0m\u001b[1;33m(\u001b[0m\u001b[0mval_df_series\u001b[0m\u001b[1;33m,\u001b[0m \u001b[0mEPOCHS\u001b[0m\u001b[1;33m,\u001b[0m \u001b[0mBATCH_SIZE\u001b[0m \u001b[1;33m*\u001b[0m \u001b[1;36m2\u001b[0m\u001b[1;33m,\u001b[0m \u001b[0mNUM_PER_ID\u001b[0m\u001b[1;33m)\u001b[0m\u001b[1;33m\u001b[0m\u001b[1;33m\u001b[0m\u001b[0m\n",
      "\u001b[1;31mTypeError\u001b[0m: generator() takes from 1 to 3 positional arguments but 4 were given"
     ]
    }
   ],
   "source": [
    "import os, math\n",
    "dir_path = \"./arcface_weights\"\n",
    "BATCH_SIZE = 64\n",
    "# NUM_PER_ID * 2 가 BATCH_SIZE 미만이면 BATCH_SIZE가 의미가 없음. 어차피 NUM_PER_ID * 2 씩만 가져와서 학습하게 되기 때문.\n",
    "NUM_PER_ID = 320\n",
    "# NUM_PER_ID = 128 # test용\n",
    "EPOCHS = 5\n",
    "PATIENCE = 5\n",
    "\n",
    "if not os.path.exists(dir_path):\n",
    "    os.mkdir(dir_path)\n",
    "\n",
    "\n",
    "output_signature = (\n",
    "    (tf.TensorSpec(shape=verifier.model.input_shape[0], dtype=tf.float32),\n",
    "     tf.TensorSpec(shape=verifier.model.input_shape[1], dtype=tf.float32)),\n",
    "    tf.TensorSpec(shape=(None,), dtype=tf.int32)\n",
    ")\n",
    "\n",
    "train_ds = tf.data.Dataset.from_generator(\n",
    "    generator= lambda: generator(train_df_series, BATCH_SIZE * 2, NUM_PER_ID),\n",
    "    output_signature=output_signature,\n",
    ").repeat()\n",
    "# train_generator = generator(train_df_series, EPOCHS, BATCH_SIZE * 2, NUM_PER_ID)\n",
    "\n",
    "val_ds = tf.data.Dataset.from_generator(\n",
    "    generator= lambda: generator(val_df_series, BATCH_SIZE * 2, NUM_PER_ID),\n",
    "    output_signature=output_signature,\n",
    "    # output_types=((tf.float32, tf.float32), tf.int32),\n",
    "    # output_shapes=( (verifier.model.input_shape[0], verifier.model.input_shape[1]), None ),\n",
    ").repeat()\n",
    "\n",
    "\n",
    "# 스텝 설정\n",
    "steps_per_epoch = math.ceil(len(train_df_series) * NUM_PER_ID * 2 / BATCH_SIZE)\n",
    "validation_steps = math.ceil(len(val_df_series) * NUM_PER_ID * 2 / BATCH_SIZE)\n",
    "\n",
    "\n",
    "run_options = tf.compat.v1.RunOptions()\n",
    "run_options.report_tensor_allocations_upon_oom = True\n",
    "\n",
    "\n",
    "# 가중치파일 최신 10개만 남김\n",
    "def keep_latest_n_weights(dir_path, n=10):\n",
    "    if not os.path.exists(dir_path):\n",
    "        os.mkdir(dir_path)\n",
    "        return\n",
    "    \n",
    "    weights_files = sorted([f for f in os.listdir(dir_path) if f.endswith('.h5')], \n",
    "                           key=lambda x: os.path.getmtime(os.path.join(dir_path, x)), reverse=True)\n",
    "    for f in weights_files[n:]:\n",
    "        os.remove(os.path.join(dir_path, f))\n",
    "\n",
    "# LambdaCallback 설정\n",
    "keep_latest_weights_callback = tf.keras.callbacks.LambdaCallback(\n",
    "    on_epoch_end=lambda epoch, logs: keep_latest_n_weights(dir_path, n=10)\n",
    ")\n",
    "\n",
    "checkpoint_callback = tf.keras.callbacks.ModelCheckpoint(\n",
    "    filepath=f'{dir_path}/' + model_name + POST_FIX,\n",
    "    save_weights_only=True,\n",
    "    monitor='val_loss',\n",
    "    mode='min',\n",
    "    save_best_only=False,\n",
    "    save_freq='epoch', # 1에폭마다 저장함\n",
    "    verbose=1,\n",
    ")\n",
    "\n",
    "early = tf.keras.callbacks.EarlyStopping(monitor='val_loss', patience=PATIENCE)\n",
    "\n",
    "history2 = verifier.model.fit(\n",
    "    train_ds,\n",
    "    validation_data=val_ds,\n",
    "    epochs=EPOCHS,\n",
    "    callbacks=[checkpoint_callback, early, keep_latest_weights_callback],\n",
    "    batch_size = BATCH_SIZE,\n",
    "    verbose=1,\n",
    "    steps_per_epoch=steps_per_epoch,\n",
    "    validation_steps= validation_steps\n",
    ")\n",
    "\n"
   ]
  },
  {
   "cell_type": "code",
   "execution_count": null,
   "metadata": {},
   "outputs": [
    {
     "data": {
      "text/plain": [
       "<RepeatDataset element_spec=((TensorSpec(shape=(None, 2), dtype=tf.float32, name=None), TensorSpec(shape=(None, 2), dtype=tf.float32, name=None)), TensorSpec(shape=<unknown>, dtype=tf.int32, name=None))>"
      ]
     },
     "execution_count": 32,
     "metadata": {},
     "output_type": "execute_result"
    }
   ],
   "source": [
    "# ds_count = tf.data.Dataset.from_generator(\n",
    "#     generator= lambda: generator(train_df_series, BATCH_SIZE * 2, NUM_PER_ID),\n",
    "#     output_types=((tf.float32, tf.float32), tf.int32),\n",
    "#     output_shapes=(((None, 2), (None, 2)), None),\n",
    "# )\n",
    "# ds_count.repeat(3)"
   ]
  },
  {
   "cell_type": "code",
   "execution_count": null,
   "metadata": {},
   "outputs": [],
   "source": [
    "plot_history(history2)"
   ]
  },
  {
   "cell_type": "code",
   "execution_count": null,
   "metadata": {},
   "outputs": [
    {
     "ename": "TypeError",
     "evalue": "'Series' object is not callable",
     "output_type": "error",
     "traceback": [
      "\u001b[1;31m---------------------------------------------------------------------------\u001b[0m",
      "\u001b[1;31mTypeError\u001b[0m                                 Traceback (most recent call last)",
      "\u001b[1;32m~\\AppData\\Local\\Temp\\ipykernel_21280\\3213669150.py\u001b[0m in \u001b[0;36m<module>\u001b[1;34m\u001b[0m\n\u001b[0;32m     10\u001b[0m       \u001b[1;32myield\u001b[0m \u001b[0mx\u001b[0m\u001b[1;33m,\u001b[0m\u001b[0my\u001b[0m\u001b[1;33m\u001b[0m\u001b[1;33m\u001b[0m\u001b[0m\n\u001b[0;32m     11\u001b[0m \u001b[1;33m\u001b[0m\u001b[0m\n\u001b[1;32m---> 12\u001b[1;33m \u001b[0mdataset\u001b[0m \u001b[1;33m=\u001b[0m \u001b[0mtf\u001b[0m\u001b[1;33m.\u001b[0m\u001b[0mdata\u001b[0m\u001b[1;33m.\u001b[0m\u001b[0mDataset\u001b[0m\u001b[1;33m.\u001b[0m\u001b[0mfrom_generator\u001b[0m\u001b[1;33m(\u001b[0m\u001b[0mour_generator\u001b[0m\u001b[1;33m,\u001b[0m \u001b[0margs\u001b[0m\u001b[1;33m=\u001b[0m\u001b[1;33m(\u001b[0m\u001b[0mtrain_df_series\u001b[0m\u001b[1;33m)\u001b[0m \u001b[1;33m(\u001b[0m\u001b[0mtf\u001b[0m\u001b[1;33m.\u001b[0m\u001b[0mfloat32\u001b[0m\u001b[1;33m,\u001b[0m \u001b[0mtf\u001b[0m\u001b[1;33m.\u001b[0m\u001b[0mint16\u001b[0m\u001b[1;33m)\u001b[0m\u001b[1;33m)\u001b[0m\u001b[1;33m\u001b[0m\u001b[1;33m\u001b[0m\u001b[0m\n\u001b[0m\u001b[0;32m     13\u001b[0m \u001b[1;33m\u001b[0m\u001b[0m\n\u001b[0;32m     14\u001b[0m \u001b[1;32mfor\u001b[0m \u001b[0mbatch\u001b[0m\u001b[1;33m,\u001b[0m \u001b[1;33m(\u001b[0m\u001b[0mx\u001b[0m\u001b[1;33m,\u001b[0m\u001b[0my\u001b[0m\u001b[1;33m)\u001b[0m \u001b[1;32min\u001b[0m \u001b[0menumerate\u001b[0m\u001b[1;33m(\u001b[0m\u001b[0mdataset\u001b[0m\u001b[1;33m)\u001b[0m\u001b[1;33m:\u001b[0m\u001b[1;33m\u001b[0m\u001b[1;33m\u001b[0m\u001b[0m\n",
      "\u001b[1;31mTypeError\u001b[0m: 'Series' object is not callable"
     ]
    }
   ],
   "source": [
    "# import tensorflow as tf\n",
    "# import numpy as np\n",
    "\n",
    "\n",
    "# def our_generator():\n",
    "#     for i in range(1000):\n",
    "#       print(len(train_df_series))\n",
    "#       x = np.random.rand(28,28)\n",
    "#       y = np.random.randint(1,10, size=1)\n",
    "#       yield x,y\n",
    "\n",
    "# dataset = tf.data.Dataset.from_generator()\n",
    "\n",
    "# for batch, (x,y) in enumerate(dataset):\n",
    "#   pass\n",
    "\n",
    "# print(\"batch: \", batch)\n",
    "# print(\"Data shape: \", x.shape, y.shape)\n",
    "# print(x[0])\n",
    "# print(y[0])\n",
    "\n",
    "#batch:  999\n",
    "#Data shape:  (28, 28) (1,)"
   ]
  }
 ],
 "metadata": {
  "kernelspec": {
   "display_name": "cp2",
   "language": "python",
   "name": "python3"
  },
  "language_info": {
   "codemirror_mode": {
    "name": "ipython",
    "version": 3
   },
   "file_extension": ".py",
   "mimetype": "text/x-python",
   "name": "python",
   "nbconvert_exporter": "python",
   "pygments_lexer": "ipython3",
   "version": "3.7.16"
  },
  "orig_nbformat": 4
 },
 "nbformat": 4,
 "nbformat_minor": 2
}
