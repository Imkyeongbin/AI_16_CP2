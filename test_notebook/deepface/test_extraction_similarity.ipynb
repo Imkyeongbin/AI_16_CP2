{
 "cells": [
  {
   "cell_type": "code",
   "execution_count": 24,
   "metadata": {},
   "outputs": [
    {
     "data": {
      "text/plain": [
       "'\\nsimilarity(유사도) : 두 벡터를 비교해 검증.\\n벡터 비교 방법은 코사인유사도, 코사인거리, 유클리드 거리 \\n가장 쉬운 벡터 비교 방법은 유클리디안 거리를 찾는 것 \\n'"
      ]
     },
     "execution_count": 24,
     "metadata": {},
     "output_type": "execute_result"
    }
   ],
   "source": [
    "# test_extraction_mediapipe_similarity.ipynb\n",
    "'''\n",
    "similarity(유사도) : 두 벡터를 비교해 검증.\n",
    "벡터 비교 방법은 코사인유사도, 코사인거리, 유클리드 거리 \n",
    "가장 쉬운 벡터 비교 방법은 유클리디안 거리를 찾는 것 \n",
    "'''\n"
   ]
  },
  {
   "cell_type": "code",
   "execution_count": 10,
   "metadata": {},
   "outputs": [],
   "source": [
    "import numpy as np\n",
    "\n",
    "class DistanceCalculator:\n",
    "    @staticmethod\n",
    "    def cosine_similarity(source, test):\n",
    "        source = l2_normalize(source)\n",
    "        test = l2_normalize(test)\n",
    "        cosine_similarity = np.dot(source, test)\n",
    "        return cosine_similarity\n",
    "\n",
    "    @staticmethod\n",
    "    def cosine_distance(source, test):\n",
    "        a = np.matmul(np.transpose(source), test)\n",
    "        b = np.sum(np.multiply(source, source))\n",
    "        c = np.sum(np.multiply(test, test))\n",
    "        return 1 - (a / (np.sqrt(b) * np.sqrt(c)))\n",
    "\n",
    "    @staticmethod\n",
    "    def euclidean_distance(source, test):\n",
    "        if isinstance(source, list):\n",
    "            source = np.array(source)\n",
    "\n",
    "        if isinstance(test, list):\n",
    "            test = np.array(test)\n",
    "\n",
    "        euclidean_distance = source - test\n",
    "        euclidean_distance = np.sum(np.multiply(euclidean_distance, euclidean_distance))\n",
    "        euclidean_distance = np.sqrt(euclidean_distance)\n",
    "        return euclidean_distance\n",
    "\n",
    "def l2_normalize(x):\n",
    "    return x / np.sqrt(np.sum(np.multiply(x, x)))\n"
   ]
  },
  {
   "cell_type": "code",
   "execution_count": 11,
   "metadata": {},
   "outputs": [],
   "source": [
    "# .npy 파일 로드\n",
    "source = np.load('/Users/jinmh/Desktop/vectors2/b2_000_04resized.npy')\n",
    "test = np.load('/Users/jinmh/Desktop/vectors2/t3_000_04resized.npy')"
   ]
  },
  {
   "cell_type": "code",
   "execution_count": 12,
   "metadata": {},
   "outputs": [
    {
     "data": {
      "text/plain": [
       "0.6205273"
      ]
     },
     "execution_count": 12,
     "metadata": {},
     "output_type": "execute_result"
    }
   ],
   "source": [
    "# FaceRecognition 클래스의 인스턴스 생성\n",
    "face_recognition = DistanceCalculator()\n",
    "\n",
    "# cosine_similarity 메서드를 호출하여 값을 찾음\n",
    "cosine_sim = face_recognition.cosine_similarity(source, test)\n",
    "cosine_sim\n"
   ]
  },
  {
   "cell_type": "code",
   "execution_count": 13,
   "metadata": {},
   "outputs": [
    {
     "data": {
      "text/plain": [
       "0.3794727325439453"
      ]
     },
     "execution_count": 13,
     "metadata": {},
     "output_type": "execute_result"
    }
   ],
   "source": [
    "# cosine_distance 메서드를 호출하여 값을 찾음\n",
    "cosine_dis = face_recognition.cosine_distance(source, test)\n",
    "cosine_dis"
   ]
  },
  {
   "cell_type": "code",
   "execution_count": 14,
   "metadata": {},
   "outputs": [
    {
     "data": {
      "text/plain": [
       "158.43901"
      ]
     },
     "execution_count": 14,
     "metadata": {},
     "output_type": "execute_result"
    }
   ],
   "source": [
    "# euclidean_distance 메서드를 호출하여 값을 찾음\n",
    "euclidean_dis = face_recognition.euclidean_distance(source, test)\n",
    "euclidean_dis"
   ]
  },
  {
   "cell_type": "code",
   "execution_count": 53,
   "metadata": {},
   "outputs": [],
   "source": [
    "# import numpy as np\n",
    "\n",
    "# # .npy 파일 로드\n",
    "# source_representation = np.load('/Users/jinmh/Desktop/vectors2/t2_000_04resized.npy')\n",
    "# test_representation = np.load('/Users/jinmh/Desktop/vectors2/b3_000_04resized.npy')\n",
    "\n",
    "# # 코사인 유사도 계산\n",
    "# def findCosinSimilarity(source_representation, test_representation):\n",
    "#     cosin_similarity = np.dot(source_representation, test_representation) / (np.linalg.norm(source_representation) * np.linalg.norm(test_representation))\n",
    "#     return cosin_similarity\n",
    "\n",
    "# # 코사인 거리 계산\n",
    "# def findCosineDistance(source_representation, test_representation):\n",
    "#     a = np.matmul(np.transpose(source_representation), test_representation)\n",
    "#     b = np.sum(np.multiply(source_representation, source_representation))\n",
    "#     c = np.sum(np.multiply(test_representation, test_representation))\n",
    "#     return 1 - (a / (np.sqrt(b) * np.sqrt(c)))\n",
    "\n",
    "# # 유클리드 거리 계산\n",
    "# def findEuclideanDistance(source_representation, test_representation):\n",
    "#     if isinstance(source_representation, list):\n",
    "#         source_representation = np.array(source_representation)\n",
    "\n",
    "#     if isinstance(test_representation, list):\n",
    "#         test_representation = np.array(test_representation)\n",
    "\n",
    "#     euclidean_distance = source_representation - test_representation\n",
    "#     euclidean_distance = np.sum(np.multiply(euclidean_distance, euclidean_distance))\n",
    "#     euclidean_distance = np.sqrt(euclidean_distance)\n",
    "#     return euclidean_distance\n",
    "\n",
    "\n",
    "# def l2_normalize(x):\n",
    "#     return x / np.sqrt(np.sum(np.multiply(x, x)))\n",
    "\n"
   ]
  },
  {
   "cell_type": "code",
   "execution_count": 54,
   "metadata": {},
   "outputs": [
    {
     "data": {
      "text/plain": [
       "0.84318256"
      ]
     },
     "execution_count": 54,
     "metadata": {},
     "output_type": "execute_result"
    }
   ],
   "source": [
    "# findCosinSimilarity(source_representation, test_representation)"
   ]
  },
  {
   "cell_type": "code",
   "execution_count": 55,
   "metadata": {},
   "outputs": [
    {
     "data": {
      "text/plain": [
       "0.15681743621826172"
      ]
     },
     "execution_count": 55,
     "metadata": {},
     "output_type": "execute_result"
    }
   ],
   "source": [
    "# findCosineDistance(source_representation, test_representation)"
   ]
  },
  {
   "cell_type": "code",
   "execution_count": 47,
   "metadata": {},
   "outputs": [
    {
     "data": {
      "text/plain": [
       "164.99976"
      ]
     },
     "execution_count": 47,
     "metadata": {},
     "output_type": "execute_result"
    }
   ],
   "source": [
    "# findEuclideanDistance(source_representation, test_representation)"
   ]
  }
 ],
 "metadata": {
  "kernelspec": {
   "display_name": "CP37",
   "language": "python",
   "name": "python3"
  },
  "language_info": {
   "codemirror_mode": {
    "name": "ipython",
    "version": 3
   },
   "file_extension": ".py",
   "mimetype": "text/x-python",
   "name": "python",
   "nbconvert_exporter": "python",
   "pygments_lexer": "ipython3",
   "version": "3.7.16"
  },
  "orig_nbformat": 4
 },
 "nbformat": 4,
 "nbformat_minor": 2
}
