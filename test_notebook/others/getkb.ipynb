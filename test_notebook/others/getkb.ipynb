{
 "cells": [
  {
   "cell_type": "code",
   "execution_count": 1,
   "metadata": {},
   "outputs": [
    {
     "name": "stdout",
     "output_type": "stream",
     "text": [
      "age_model_weights.h5 size: 513.81 MB\n",
      "arcface_weights.h5 size: 130.68 MB\n",
      "deepid_keras_weights.h5 size: 1.54 MB\n",
      "dlib_face_recognition_resnet_model_v1.dat size: 21.43 MB\n",
      "facenet512_weights.h5 size: 90.56 MB\n",
      "facenet_weights.h5 size: 87.92 MB\n",
      "face_recognition_sface_2021dec.onnx size: 36.90 MB\n",
      "facial_expression_model_weights.h5 size: 5.70 MB\n",
      "gender_model_weights.h5 size: 512.27 MB\n",
      "openface_weights.h5 size: 14.60 MB\n",
      "race_model_single_batch.h5 size: 512.33 MB\n",
      "VGGFace2_DeepFace_weights_val-0.9034.h5 size: 525.60 MB\n",
      "VGGFace2_DeepFace_weights_val-0.9034.h5.zip size: 487.80 MB\n",
      "vgg_face_weights.h5 size: 553.21 MB\n"
     ]
    }
   ],
   "source": [
    "\n",
    "import os\n",
    "\n",
    "def get_file_size(filepath):\n",
    "    return os.path.getsize(filepath) / (1024 * 1024) # bytes를 MB로 변환하여 반환\n",
    "\n",
    "directory = 'C:/Users/scinn/.deepface/weights'\n",
    "\n",
    "for filename in os.listdir(directory):\n",
    "    filepath = os.path.join(directory, filename)\n",
    "    if os.path.isfile(filepath):\n",
    "        size_mb = get_file_size(filepath)\n",
    "        print(f\"{filename} size: {size_mb:.2f} MB\")"
   ]
  }
 ],
 "metadata": {
  "kernelspec": {
   "display_name": "cp2",
   "language": "python",
   "name": "python3"
  },
  "language_info": {
   "codemirror_mode": {
    "name": "ipython",
    "version": 3
   },
   "file_extension": ".py",
   "mimetype": "text/x-python",
   "name": "python",
   "nbconvert_exporter": "python",
   "pygments_lexer": "ipython3",
   "version": "3.7.16"
  },
  "orig_nbformat": 4
 },
 "nbformat": 4,
 "nbformat_minor": 2
}
